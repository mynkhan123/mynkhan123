{
 "cells": [
  {
   "cell_type": "code",
   "execution_count": 1,
   "id": "f2725787",
   "metadata": {},
   "outputs": [],
   "source": [
    "import numpy as np"
   ]
  },
  {
   "cell_type": "code",
   "execution_count": 3,
   "id": "d5253db8",
   "metadata": {},
   "outputs": [],
   "source": [
    "ideal_response={'P':'S','R':'P','S':'R'}\n",
    "my_moves={'R'}\n",
    "opponent_history=[]\n",
    "strategy=[0,0,0,0]\n",
    "opponent_guess=[\"\",\"\",\"\",\"\"]\n",
    "strategy_guess=[\"\",\"\",\"\",\"\"]\n",
    "opponent_play_order={}\n",
    "my_play_order={}"
   ]
  },
  {
   "cell_type": "code",
   "execution_count": 4,
   "id": "ba5860ef",
   "metadata": {},
   "outputs": [],
   "source": [
    "def player(prev_play):\n",
    "    if prev_play in [\"R\",\"P\",\"S\"]:\n",
    "        opponent_history.append(prev_play)\n",
    "        for i in range(0,4):\n",
    "            if opponent_guess[i]==prev_play:\n",
    "                strategy[i] +=1\n",
    "    else:\n",
    "        reset()"
   ]
  },
  {
   "cell_type": "code",
   "execution_count": 16,
   "id": "9f840136",
   "metadata": {},
   "outputs": [
    {
     "ename": "IndentationError",
     "evalue": "unexpected indent (4133149124.py, line 2)",
     "output_type": "error",
     "traceback": [
      "\u001b[1;36m  Input \u001b[1;32mIn [16]\u001b[1;36m\u001b[0m\n\u001b[1;33m    if len(my_last_ten) > 0:\u001b[0m\n\u001b[1;37m    ^\u001b[0m\n\u001b[1;31mIndentationError\u001b[0m\u001b[1;31m:\u001b[0m unexpected indent\n"
     ]
    }
   ],
   "source": [
    "my_last_ten = my_moves[-10:]\n",
    "    if len(my_last_ten) > 0:\n",
    "        my_most_frequent_move = max(set(my_last_ten), key=my_last_ten.count)\n",
    "        opponent_guess[0] = ideal_response[my_most_frequent_move]\n",
    "        strategy_guess[0] = ideal_response[opponent_guess[0]]"
   ]
  },
  {
   "cell_type": "code",
   "execution_count": 17,
   "id": "a5c0f21b",
   "metadata": {
    "scrolled": true
   },
   "outputs": [
    {
     "ename": "TypeError",
     "evalue": "'set' object is not subscriptable",
     "output_type": "error",
     "traceback": [
      "\u001b[1;31m---------------------------------------------------------------------------\u001b[0m",
      "\u001b[1;31mTypeError\u001b[0m                                 Traceback (most recent call last)",
      "Input \u001b[1;32mIn [17]\u001b[0m, in \u001b[0;36m<cell line: 1>\u001b[1;34m()\u001b[0m\n\u001b[0;32m      1\u001b[0m \u001b[38;5;28;01mif\u001b[39;00m \u001b[38;5;28mlen\u001b[39m(my_moves) \u001b[38;5;241m>\u001b[39m \u001b[38;5;241m0\u001b[39m:\n\u001b[1;32m----> 2\u001b[0m         my_last_play \u001b[38;5;241m=\u001b[39m \u001b[43mmy_moves\u001b[49m\u001b[43m[\u001b[49m\u001b[38;5;241;43m-\u001b[39;49m\u001b[38;5;241;43m1\u001b[39;49m\u001b[43m]\u001b[49m\n\u001b[0;32m      3\u001b[0m         opponent_guess[\u001b[38;5;241m1\u001b[39m] \u001b[38;5;241m=\u001b[39m ideal_response[my_last_play]\n\u001b[0;32m      4\u001b[0m         strategy_guess[\u001b[38;5;241m1\u001b[39m] \u001b[38;5;241m=\u001b[39m ideal_response[opponent_guess[\u001b[38;5;241m1\u001b[39m]]\n",
      "\u001b[1;31mTypeError\u001b[0m: 'set' object is not subscriptable"
     ]
    }
   ],
   "source": [
    "if len(my_moves) > 0:\n",
    "        my_last_play = my_moves[-1]\n",
    "        opponent_guess[1] = ideal_response[my_last_play]\n",
    "        strategy_guess[1] = ideal_response[opponent_guess[1]]"
   ]
  },
  {
   "cell_type": "code",
   "execution_count": 18,
   "id": "a836c4b0",
   "metadata": {},
   "outputs": [],
   "source": [
    "if len(opponent_history) >= 3:\n",
    "        opponent_guess[2] = predict_move(opponent_history, 3, opponent_play_order)\n",
    "        strategy_guess[2] = ideal_response[opponent_guess[2]]\n"
   ]
  },
  {
   "cell_type": "code",
   "execution_count": 20,
   "id": "8787883a",
   "metadata": {},
   "outputs": [
    {
     "ename": "IndentationError",
     "evalue": "unindent does not match any outer indentation level (<tokenize>, line 5)",
     "output_type": "error",
     "traceback": [
      "\u001b[1;36m  File \u001b[1;32m<tokenize>:5\u001b[1;36m\u001b[0m\n\u001b[1;33m    best_strategy = np.argmax(strategy)\u001b[0m\n\u001b[1;37m    ^\u001b[0m\n\u001b[1;31mIndentationError\u001b[0m\u001b[1;31m:\u001b[0m unindent does not match any outer indentation level\n"
     ]
    }
   ],
   "source": [
    "if len(my_moves) >= 2:\n",
    "        opponent_guess[3] = ideal_response[predict_move(my_moves, 2, my_play_order)]\n",
    "        strategy_guess[3] = ideal_response[opponent_guess[3]]\n",
    "\n",
    "    best_strategy = np.argmax(strategy)\n",
    "    guess = strategy_guess[best_strategy]\n",
    "    if guess == \"\":\n",
    "        guess = \"S\"\n",
    "    my_moves.append(guess)\n",
    "    return guess\n"
   ]
  },
  {
   "cell_type": "code",
   "execution_count": 21,
   "id": "b2a2d0bc",
   "metadata": {},
   "outputs": [],
   "source": [
    "def predict_move(history, n, play_order):\n",
    "    if \"\".join(history[-n:]) in play_order.keys():\n",
    "        play_order[\"\".join(history[-n:])] += 1\n",
    "    else:\n",
    "        play_order[\"\".join(history[-n:])] = 1\n",
    "    possible = [\"\".join(history[-(n - 1) :]) + k for k in [\"R\", \"P\", \"S\"]]\n",
    "    for pm in possible:\n",
    "        if not pm in play_order.keys():\n",
    "            play_order[pm] = 0\n",
    "    predict = max(possible, key=lambda key: play_order[key])\n",
    "    return predict[-1]\n",
    "\n"
   ]
  },
  {
   "cell_type": "code",
   "execution_count": 22,
   "id": "347bed92",
   "metadata": {},
   "outputs": [],
   "source": [
    "def reset():\n",
    "    global my_moves, opponent_history, strategy, opponent_guess, strategy_guess, opponent_play_order, my_play_order\n",
    "    my_moves = [\"R\"]\n",
    "    opponent_history.clear()\n",
    "    strategy = [0, 0, 0, 0]\n",
    "    opponent_guess = [\"\", \"\", \"\", \"\"]\n",
    "    strategy_guess = [\"\", \"\", \"\", \"\"]\n",
    "    opponent_play_order = {}\n",
    "    my_play_order = {}\n"
   ]
  }
 ],
 "metadata": {
  "kernelspec": {
   "display_name": "Python 3 (ipykernel)",
   "language": "python",
   "name": "python3"
  },
  "language_info": {
   "codemirror_mode": {
    "name": "ipython",
    "version": 3
   },
   "file_extension": ".py",
   "mimetype": "text/x-python",
   "name": "python",
   "nbconvert_exporter": "python",
   "pygments_lexer": "ipython3",
   "version": "3.9.12"
  }
 },
 "nbformat": 4,
 "nbformat_minor": 5
}
